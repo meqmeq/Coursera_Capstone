{
 "cells": [
  {
   "cell_type": "markdown",
   "metadata": {},
   "source": [
    "# IBM's Applied Data Science Capstone Project :Battle of Neighborhoods"
   ]
  },
  {
   "cell_type": "markdown",
   "metadata": {},
   "source": [
    "## Where to Stay for the Best Culinary Experience in Montreal"
   ]
  },
  {
   "cell_type": "markdown",
   "metadata": {},
   "source": [
    "    "
   ]
  },
  {
   "cell_type": "markdown",
   "metadata": {},
   "source": [
    "### Introduction & Business Problem\n",
    "Food has always been a staple to humans and is also considered an art form. The culinary world offers a different variety of cuisines that can leave you speechless after one bite. However, in this modern age, there are various restaurants that are disperse all around a city. \n",
    "What if we can locate the best neighborhood/geographical location where tourist, clients, hotel owners, etc. can know that they are at the premium spot where they will be offered the upmost culinary experience.\n",
    "For this project, the focus will be on the city of Montreal which is one the most ethnically and culturally diverse cities in the world. In the following notebook, the exploration of the different neighborhoods of Montreal and find out, which neighborhood to be at to experience the best culinary experience possible.\n",
    "\n",
    "\n",
    "### Data Section\n",
    "To start of the future research, the data of the Montreal neighborhoods will be needed. The Postal Code of the Montreal Neighborhoods can be found here: https://en.wikipedia.org/wiki/List_of_postal_codes_of_Canada:_H\n",
    " After cleaning up the data, the geolocator API will be used to find the coordinate of the different postal codes in Montreal. \n",
    "Once the coordinates are found, the FourSquare API will be used to analyze the different neighborhoods to find the ideal location to stay to have the best culinary experience in Montreal. \n",
    "At this point in time, I don’t have any other datasets to enhance the analysis, however, as the CAPSTONE continues, there will be hopefully another dataset and/or API that will be used to furthermore complete the research.\n"
   ]
  },
  {
   "cell_type": "code",
   "execution_count": null,
   "metadata": {},
   "outputs": [],
   "source": []
  }
 ],
 "metadata": {
  "kernelspec": {
   "display_name": "Python 3",
   "language": "python",
   "name": "python3"
  },
  "language_info": {
   "codemirror_mode": {
    "name": "ipython",
    "version": 3
   },
   "file_extension": ".py",
   "mimetype": "text/x-python",
   "name": "python",
   "nbconvert_exporter": "python",
   "pygments_lexer": "ipython3",
   "version": "3.7.4"
  }
 },
 "nbformat": 4,
 "nbformat_minor": 4
}
